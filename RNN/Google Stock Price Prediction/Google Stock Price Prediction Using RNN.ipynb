{
 "cells": [
  {
   "cell_type": "code",
   "execution_count": 48,
   "id": "c74ae637",
   "metadata": {},
   "outputs": [],
   "source": [
    "import numpy as np\n",
    "import pandas as pd\n",
    "import matplotlib.pyplot as plt"
   ]
  },
  {
   "cell_type": "markdown",
   "id": "4df8a541",
   "metadata": {},
   "source": [
    "# Part 1 Data Preprocessing"
   ]
  },
  {
   "cell_type": "markdown",
   "id": "2cfece11",
   "metadata": {},
   "source": [
    "### importing the data"
   ]
  },
  {
   "cell_type": "code",
   "execution_count": 49,
   "id": "14d36b6c",
   "metadata": {
    "scrolled": true
   },
   "outputs": [
    {
     "data": {
      "text/html": [
       "<div>\n",
       "<style scoped>\n",
       "    .dataframe tbody tr th:only-of-type {\n",
       "        vertical-align: middle;\n",
       "    }\n",
       "\n",
       "    .dataframe tbody tr th {\n",
       "        vertical-align: top;\n",
       "    }\n",
       "\n",
       "    .dataframe thead th {\n",
       "        text-align: right;\n",
       "    }\n",
       "</style>\n",
       "<table border=\"1\" class=\"dataframe\">\n",
       "  <thead>\n",
       "    <tr style=\"text-align: right;\">\n",
       "      <th></th>\n",
       "      <th>Date</th>\n",
       "      <th>Open</th>\n",
       "      <th>High</th>\n",
       "      <th>Low</th>\n",
       "      <th>Close</th>\n",
       "      <th>Volume</th>\n",
       "    </tr>\n",
       "  </thead>\n",
       "  <tbody>\n",
       "    <tr>\n",
       "      <th>0</th>\n",
       "      <td>1/3/2012</td>\n",
       "      <td>325.25</td>\n",
       "      <td>332.83</td>\n",
       "      <td>324.97</td>\n",
       "      <td>663.59</td>\n",
       "      <td>7,380,500</td>\n",
       "    </tr>\n",
       "    <tr>\n",
       "      <th>1</th>\n",
       "      <td>1/4/2012</td>\n",
       "      <td>331.27</td>\n",
       "      <td>333.87</td>\n",
       "      <td>329.08</td>\n",
       "      <td>666.45</td>\n",
       "      <td>5,749,400</td>\n",
       "    </tr>\n",
       "    <tr>\n",
       "      <th>2</th>\n",
       "      <td>1/5/2012</td>\n",
       "      <td>329.83</td>\n",
       "      <td>330.75</td>\n",
       "      <td>326.89</td>\n",
       "      <td>657.21</td>\n",
       "      <td>6,590,300</td>\n",
       "    </tr>\n",
       "    <tr>\n",
       "      <th>3</th>\n",
       "      <td>1/6/2012</td>\n",
       "      <td>328.34</td>\n",
       "      <td>328.77</td>\n",
       "      <td>323.68</td>\n",
       "      <td>648.24</td>\n",
       "      <td>5,405,900</td>\n",
       "    </tr>\n",
       "    <tr>\n",
       "      <th>4</th>\n",
       "      <td>1/9/2012</td>\n",
       "      <td>322.04</td>\n",
       "      <td>322.29</td>\n",
       "      <td>309.46</td>\n",
       "      <td>620.76</td>\n",
       "      <td>11,688,800</td>\n",
       "    </tr>\n",
       "  </tbody>\n",
       "</table>\n",
       "</div>"
      ],
      "text/plain": [
       "       Date    Open    High     Low   Close      Volume\n",
       "0  1/3/2012  325.25  332.83  324.97  663.59   7,380,500\n",
       "1  1/4/2012  331.27  333.87  329.08  666.45   5,749,400\n",
       "2  1/5/2012  329.83  330.75  326.89  657.21   6,590,300\n",
       "3  1/6/2012  328.34  328.77  323.68  648.24   5,405,900\n",
       "4  1/9/2012  322.04  322.29  309.46  620.76  11,688,800"
      ]
     },
     "execution_count": 49,
     "metadata": {},
     "output_type": "execute_result"
    }
   ],
   "source": [
    "dataset_train = pd.read_csv('Google_Stock_Price_Train.csv')\n",
    "dataset_train.head()"
   ]
  },
  {
   "cell_type": "code",
   "execution_count": 50,
   "id": "94a44727",
   "metadata": {},
   "outputs": [
    {
     "data": {
      "text/plain": [
       "(1258, 6)"
      ]
     },
     "execution_count": 50,
     "metadata": {},
     "output_type": "execute_result"
    }
   ],
   "source": [
    "dataset_train.shape"
   ]
  },
  {
   "cell_type": "code",
   "execution_count": 51,
   "id": "d85c1abc",
   "metadata": {},
   "outputs": [],
   "source": [
    "training_set = dataset_train.iloc[:,1:2].values"
   ]
  },
  {
   "cell_type": "code",
   "execution_count": 52,
   "id": "fc5be103",
   "metadata": {},
   "outputs": [],
   "source": [
    "from sklearn.preprocessing import MinMaxScaler"
   ]
  },
  {
   "cell_type": "markdown",
   "id": "5f22be4f",
   "metadata": {},
   "source": [
    "### feature scaling"
   ]
  },
  {
   "cell_type": "code",
   "execution_count": 53,
   "id": "a4f7aa96",
   "metadata": {},
   "outputs": [],
   "source": [
    "scaler = MinMaxScaler(feature_range=(0,1))\n",
    "training_set_scaled = scaler.fit_transform(training_set)"
   ]
  },
  {
   "cell_type": "markdown",
   "id": "2dbdcca4",
   "metadata": {},
   "source": [
    "### creating a data structure with 60 timesteps and 1 output"
   ]
  },
  {
   "cell_type": "code",
   "execution_count": 54,
   "id": "ae7ac598",
   "metadata": {},
   "outputs": [],
   "source": [
    "X_train = []\n",
    "y_train = []\n",
    "\n",
    "for i in range(60,1258):\n",
    "    X_train.append(training_set_scaled[i-60:i,0])\n",
    "    y_train.append(training_set_scaled[i,0])\n",
    "X_train,y_train = np.array(X_train),np.array(y_train)"
   ]
  },
  {
   "cell_type": "code",
   "execution_count": 55,
   "id": "6e45c534",
   "metadata": {},
   "outputs": [
    {
     "data": {
      "text/plain": [
       "array([[0.08581368, 0.09701243, 0.09433366, 0.09156187, 0.07984225,\n",
       "        0.0643277 , 0.0585423 , 0.06568569, 0.06109085, 0.06639259,\n",
       "        0.0614257 , 0.07474514, 0.02797827, 0.02379269, 0.02409033,\n",
       "        0.0159238 , 0.01078949, 0.00967334, 0.01642607, 0.02100231,\n",
       "        0.02280676, 0.02273235, 0.02810849, 0.03212665, 0.0433812 ,\n",
       "        0.04475779, 0.04790163, 0.0440695 , 0.04648783, 0.04745517,\n",
       "        0.04873875, 0.03936305, 0.04137213, 0.04034898, 0.04784582,\n",
       "        0.04325099, 0.04356723, 0.04286033, 0.04602277, 0.05398467,\n",
       "        0.05738894, 0.05714711, 0.05569611, 0.04421832, 0.04514845,\n",
       "        0.04605997, 0.04412531, 0.03675869, 0.04486941, 0.05065481,\n",
       "        0.05214302, 0.05612397, 0.05818885, 0.06540665, 0.06882953,\n",
       "        0.07243843, 0.07993526, 0.07846566, 0.08034452, 0.08497656],\n",
       "       [0.09701243, 0.09433366, 0.09156187, 0.07984225, 0.0643277 ,\n",
       "        0.0585423 , 0.06568569, 0.06109085, 0.06639259, 0.0614257 ,\n",
       "        0.07474514, 0.02797827, 0.02379269, 0.02409033, 0.0159238 ,\n",
       "        0.01078949, 0.00967334, 0.01642607, 0.02100231, 0.02280676,\n",
       "        0.02273235, 0.02810849, 0.03212665, 0.0433812 , 0.04475779,\n",
       "        0.04790163, 0.0440695 , 0.04648783, 0.04745517, 0.04873875,\n",
       "        0.03936305, 0.04137213, 0.04034898, 0.04784582, 0.04325099,\n",
       "        0.04356723, 0.04286033, 0.04602277, 0.05398467, 0.05738894,\n",
       "        0.05714711, 0.05569611, 0.04421832, 0.04514845, 0.04605997,\n",
       "        0.04412531, 0.03675869, 0.04486941, 0.05065481, 0.05214302,\n",
       "        0.05612397, 0.05818885, 0.06540665, 0.06882953, 0.07243843,\n",
       "        0.07993526, 0.07846566, 0.08034452, 0.08497656, 0.08627874],\n",
       "       [0.09433366, 0.09156187, 0.07984225, 0.0643277 , 0.0585423 ,\n",
       "        0.06568569, 0.06109085, 0.06639259, 0.0614257 , 0.07474514,\n",
       "        0.02797827, 0.02379269, 0.02409033, 0.0159238 , 0.01078949,\n",
       "        0.00967334, 0.01642607, 0.02100231, 0.02280676, 0.02273235,\n",
       "        0.02810849, 0.03212665, 0.0433812 , 0.04475779, 0.04790163,\n",
       "        0.0440695 , 0.04648783, 0.04745517, 0.04873875, 0.03936305,\n",
       "        0.04137213, 0.04034898, 0.04784582, 0.04325099, 0.04356723,\n",
       "        0.04286033, 0.04602277, 0.05398467, 0.05738894, 0.05714711,\n",
       "        0.05569611, 0.04421832, 0.04514845, 0.04605997, 0.04412531,\n",
       "        0.03675869, 0.04486941, 0.05065481, 0.05214302, 0.05612397,\n",
       "        0.05818885, 0.06540665, 0.06882953, 0.07243843, 0.07993526,\n",
       "        0.07846566, 0.08034452, 0.08497656, 0.08627874, 0.08471612],\n",
       "       [0.09156187, 0.07984225, 0.0643277 , 0.0585423 , 0.06568569,\n",
       "        0.06109085, 0.06639259, 0.0614257 , 0.07474514, 0.02797827,\n",
       "        0.02379269, 0.02409033, 0.0159238 , 0.01078949, 0.00967334,\n",
       "        0.01642607, 0.02100231, 0.02280676, 0.02273235, 0.02810849,\n",
       "        0.03212665, 0.0433812 , 0.04475779, 0.04790163, 0.0440695 ,\n",
       "        0.04648783, 0.04745517, 0.04873875, 0.03936305, 0.04137213,\n",
       "        0.04034898, 0.04784582, 0.04325099, 0.04356723, 0.04286033,\n",
       "        0.04602277, 0.05398467, 0.05738894, 0.05714711, 0.05569611,\n",
       "        0.04421832, 0.04514845, 0.04605997, 0.04412531, 0.03675869,\n",
       "        0.04486941, 0.05065481, 0.05214302, 0.05612397, 0.05818885,\n",
       "        0.06540665, 0.06882953, 0.07243843, 0.07993526, 0.07846566,\n",
       "        0.08034452, 0.08497656, 0.08627874, 0.08471612, 0.07454052],\n",
       "       [0.07984225, 0.0643277 , 0.0585423 , 0.06568569, 0.06109085,\n",
       "        0.06639259, 0.0614257 , 0.07474514, 0.02797827, 0.02379269,\n",
       "        0.02409033, 0.0159238 , 0.01078949, 0.00967334, 0.01642607,\n",
       "        0.02100231, 0.02280676, 0.02273235, 0.02810849, 0.03212665,\n",
       "        0.0433812 , 0.04475779, 0.04790163, 0.0440695 , 0.04648783,\n",
       "        0.04745517, 0.04873875, 0.03936305, 0.04137213, 0.04034898,\n",
       "        0.04784582, 0.04325099, 0.04356723, 0.04286033, 0.04602277,\n",
       "        0.05398467, 0.05738894, 0.05714711, 0.05569611, 0.04421832,\n",
       "        0.04514845, 0.04605997, 0.04412531, 0.03675869, 0.04486941,\n",
       "        0.05065481, 0.05214302, 0.05612397, 0.05818885, 0.06540665,\n",
       "        0.06882953, 0.07243843, 0.07993526, 0.07846566, 0.08034452,\n",
       "        0.08497656, 0.08627874, 0.08471612, 0.07454052, 0.07883771]])"
      ]
     },
     "execution_count": 55,
     "metadata": {},
     "output_type": "execute_result"
    }
   ],
   "source": [
    "X_train[0:5]"
   ]
  },
  {
   "cell_type": "code",
   "execution_count": 56,
   "id": "23465713",
   "metadata": {},
   "outputs": [
    {
     "data": {
      "text/plain": [
       "array([0.08627874, 0.08471612, 0.07454052, 0.07883771, 0.07238262])"
      ]
     },
     "execution_count": 56,
     "metadata": {},
     "output_type": "execute_result"
    }
   ],
   "source": [
    "y_train[0:5]"
   ]
  },
  {
   "cell_type": "markdown",
   "id": "6c39e6e3",
   "metadata": {},
   "source": [
    "### Reshaping"
   ]
  },
  {
   "cell_type": "code",
   "execution_count": 57,
   "id": "a73a3f82",
   "metadata": {},
   "outputs": [
    {
     "data": {
      "text/plain": [
       "array([[[0.08581368],\n",
       "        [0.09701243],\n",
       "        [0.09433366],\n",
       "        ...,\n",
       "        [0.07846566],\n",
       "        [0.08034452],\n",
       "        [0.08497656]],\n",
       "\n",
       "       [[0.09701243],\n",
       "        [0.09433366],\n",
       "        [0.09156187],\n",
       "        ...,\n",
       "        [0.08034452],\n",
       "        [0.08497656],\n",
       "        [0.08627874]],\n",
       "\n",
       "       [[0.09433366],\n",
       "        [0.09156187],\n",
       "        [0.07984225],\n",
       "        ...,\n",
       "        [0.08497656],\n",
       "        [0.08627874],\n",
       "        [0.08471612]],\n",
       "\n",
       "       ...,\n",
       "\n",
       "       [[0.92106928],\n",
       "        [0.92438053],\n",
       "        [0.93048218],\n",
       "        ...,\n",
       "        [0.95475854],\n",
       "        [0.95204256],\n",
       "        [0.95163331]],\n",
       "\n",
       "       [[0.92438053],\n",
       "        [0.93048218],\n",
       "        [0.9299055 ],\n",
       "        ...,\n",
       "        [0.95204256],\n",
       "        [0.95163331],\n",
       "        [0.95725128]],\n",
       "\n",
       "       [[0.93048218],\n",
       "        [0.9299055 ],\n",
       "        [0.93113327],\n",
       "        ...,\n",
       "        [0.95163331],\n",
       "        [0.95725128],\n",
       "        [0.93796041]]])"
      ]
     },
     "execution_count": 57,
     "metadata": {},
     "output_type": "execute_result"
    }
   ],
   "source": [
    "X_train = np.reshape(X_train,(X_train.shape[0],X_train.shape[1],1))\n",
    "X_train"
   ]
  },
  {
   "cell_type": "markdown",
   "id": "6564651b",
   "metadata": {},
   "source": [
    "# Part 2 Building the RNN model"
   ]
  },
  {
   "cell_type": "code",
   "execution_count": 58,
   "id": "10738f0f",
   "metadata": {},
   "outputs": [],
   "source": [
    "from keras.models import Sequential\n",
    "from keras.layers import Dense\n",
    "from keras.layers import LSTM\n",
    "from keras.layers import Dropout"
   ]
  },
  {
   "cell_type": "markdown",
   "id": "1f8e3082",
   "metadata": {},
   "source": [
    "### Intializing the Keras Libaries and package"
   ]
  },
  {
   "cell_type": "code",
   "execution_count": 59,
   "id": "52cdb1e7",
   "metadata": {},
   "outputs": [],
   "source": [
    "regressor = Sequential()"
   ]
  },
  {
   "cell_type": "markdown",
   "id": "a6c44143",
   "metadata": {},
   "source": [
    "### Adding the first LSTM layer and some Dropout regularization"
   ]
  },
  {
   "cell_type": "code",
   "execution_count": 60,
   "id": "fa23902d",
   "metadata": {},
   "outputs": [],
   "source": [
    "regressor.add(LSTM(units=50,return_sequences=True,input_shape=(X_train.shape[1],1)))\n",
    "regressor.add(Dropout(0.2))"
   ]
  },
  {
   "cell_type": "markdown",
   "id": "2332d079",
   "metadata": {},
   "source": [
    "### Adding the second LSTM Layer and some Dropout regularization"
   ]
  },
  {
   "cell_type": "code",
   "execution_count": 61,
   "id": "82db571f",
   "metadata": {},
   "outputs": [],
   "source": [
    "regressor.add(LSTM(units=50,return_sequences=True))\n",
    "regressor.add(Dropout(0.2))"
   ]
  },
  {
   "cell_type": "markdown",
   "id": "1c70ddaa",
   "metadata": {},
   "source": [
    "### Adding the third LSTM Layer and some Dropout regularization"
   ]
  },
  {
   "cell_type": "code",
   "execution_count": 62,
   "id": "f5322750",
   "metadata": {},
   "outputs": [],
   "source": [
    "regressor.add(LSTM(units=50,return_sequences=True))\n",
    "regressor.add(Dropout(0.2))"
   ]
  },
  {
   "cell_type": "markdown",
   "id": "8968ac1c",
   "metadata": {},
   "source": [
    "### Adding the fourth LSTM Layer and some Dropout regularization"
   ]
  },
  {
   "cell_type": "code",
   "execution_count": 63,
   "id": "70393e31",
   "metadata": {},
   "outputs": [],
   "source": [
    "regressor.add(LSTM(units=50,return_sequences=False))\n",
    "regressor.add(Dropout(0.2))"
   ]
  },
  {
   "cell_type": "markdown",
   "id": "5b2f4c41",
   "metadata": {},
   "source": [
    "### Adding the Output Layer"
   ]
  },
  {
   "cell_type": "code",
   "execution_count": 64,
   "id": "36cda602",
   "metadata": {},
   "outputs": [],
   "source": [
    "regressor.add(Dense(units=1))"
   ]
  },
  {
   "cell_type": "markdown",
   "id": "f4ff6725",
   "metadata": {},
   "source": [
    "### Compiling the RNN model"
   ]
  },
  {
   "cell_type": "code",
   "execution_count": 65,
   "id": "3af66e6c",
   "metadata": {},
   "outputs": [],
   "source": [
    "regressor.compile(optimizer='adam',loss = 'mean_squared_error')"
   ]
  },
  {
   "cell_type": "markdown",
   "id": "f3c33de1",
   "metadata": {},
   "source": [
    "### Fitting the RNN model"
   ]
  },
  {
   "cell_type": "code",
   "execution_count": 66,
   "id": "4f9adbd2",
   "metadata": {},
   "outputs": [
    {
     "name": "stdout",
     "output_type": "stream",
     "text": [
      "Epoch 1/100\n",
      "38/38 [==============================] - 6s 38ms/step - loss: 0.0298\n",
      "Epoch 2/100\n",
      "38/38 [==============================] - 1s 38ms/step - loss: 0.0063\n",
      "Epoch 3/100\n",
      "38/38 [==============================] - 1s 37ms/step - loss: 0.0053\n",
      "Epoch 4/100\n",
      "38/38 [==============================] - 1s 38ms/step - loss: 0.0052\n",
      "Epoch 5/100\n",
      "38/38 [==============================] - 1s 38ms/step - loss: 0.0052\n",
      "Epoch 6/100\n",
      "38/38 [==============================] - 1s 37ms/step - loss: 0.0046\n",
      "Epoch 7/100\n",
      "38/38 [==============================] - 1s 36ms/step - loss: 0.0046\n",
      "Epoch 8/100\n",
      "38/38 [==============================] - 1s 36ms/step - loss: 0.0043\n",
      "Epoch 9/100\n",
      "38/38 [==============================] - 1s 37ms/step - loss: 0.0042\n",
      "Epoch 10/100\n",
      "38/38 [==============================] - 1s 36ms/step - loss: 0.0041\n",
      "Epoch 11/100\n",
      "38/38 [==============================] - 1s 37ms/step - loss: 0.0049\n",
      "Epoch 12/100\n",
      "38/38 [==============================] - 1s 37ms/step - loss: 0.0046\n",
      "Epoch 13/100\n",
      "38/38 [==============================] - 1s 37ms/step - loss: 0.0041\n",
      "Epoch 14/100\n",
      "38/38 [==============================] - 1s 37ms/step - loss: 0.0043\n",
      "Epoch 15/100\n",
      "38/38 [==============================] - 1s 37ms/step - loss: 0.0038\n",
      "Epoch 16/100\n",
      "38/38 [==============================] - 1s 37ms/step - loss: 0.0045\n",
      "Epoch 17/100\n",
      "38/38 [==============================] - 1s 37ms/step - loss: 0.0039\n",
      "Epoch 18/100\n",
      "38/38 [==============================] - 1s 37ms/step - loss: 0.0039\n",
      "Epoch 19/100\n",
      "38/38 [==============================] - 1s 37ms/step - loss: 0.0034\n",
      "Epoch 20/100\n",
      "38/38 [==============================] - 1s 37ms/step - loss: 0.0033\n",
      "Epoch 21/100\n",
      "38/38 [==============================] - 1s 37ms/step - loss: 0.0031\n",
      "Epoch 22/100\n",
      "38/38 [==============================] - 1s 37ms/step - loss: 0.0036\n",
      "Epoch 23/100\n",
      "38/38 [==============================] - 1s 37ms/step - loss: 0.0033\n",
      "Epoch 24/100\n",
      "38/38 [==============================] - 1s 37ms/step - loss: 0.0035\n",
      "Epoch 25/100\n",
      "38/38 [==============================] - 1s 37ms/step - loss: 0.0033\n",
      "Epoch 26/100\n",
      "38/38 [==============================] - 1s 37ms/step - loss: 0.0035\n",
      "Epoch 27/100\n",
      "38/38 [==============================] - 1s 37ms/step - loss: 0.0028\n",
      "Epoch 28/100\n",
      "38/38 [==============================] - 1s 37ms/step - loss: 0.0034\n",
      "Epoch 29/100\n",
      "38/38 [==============================] - 1s 37ms/step - loss: 0.0032\n",
      "Epoch 30/100\n",
      "38/38 [==============================] - 1s 37ms/step - loss: 0.0026\n",
      "Epoch 31/100\n",
      "38/38 [==============================] - 1s 37ms/step - loss: 0.0029\n",
      "Epoch 32/100\n",
      "38/38 [==============================] - 1s 37ms/step - loss: 0.0031\n",
      "Epoch 33/100\n",
      "38/38 [==============================] - 1s 37ms/step - loss: 0.0029\n",
      "Epoch 34/100\n",
      "38/38 [==============================] - 1s 37ms/step - loss: 0.0030\n",
      "Epoch 35/100\n",
      "38/38 [==============================] - 1s 37ms/step - loss: 0.0027\n",
      "Epoch 36/100\n",
      "38/38 [==============================] - 1s 37ms/step - loss: 0.0027\n",
      "Epoch 37/100\n",
      "38/38 [==============================] - 1s 37ms/step - loss: 0.0027\n",
      "Epoch 38/100\n",
      "38/38 [==============================] - 1s 37ms/step - loss: 0.0026\n",
      "Epoch 39/100\n",
      "38/38 [==============================] - 1s 37ms/step - loss: 0.0024\n",
      "Epoch 40/100\n",
      "38/38 [==============================] - 1s 37ms/step - loss: 0.0024\n",
      "Epoch 41/100\n",
      "38/38 [==============================] - 1s 37ms/step - loss: 0.0029\n",
      "Epoch 42/100\n",
      "38/38 [==============================] - 1s 37ms/step - loss: 0.0025\n",
      "Epoch 43/100\n",
      "38/38 [==============================] - 1s 37ms/step - loss: 0.0026\n",
      "Epoch 44/100\n",
      "38/38 [==============================] - 1s 37ms/step - loss: 0.0022\n",
      "Epoch 45/100\n",
      "38/38 [==============================] - 1s 37ms/step - loss: 0.0024\n",
      "Epoch 46/100\n",
      "38/38 [==============================] - 1s 37ms/step - loss: 0.0025\n",
      "Epoch 47/100\n",
      "38/38 [==============================] - 1s 37ms/step - loss: 0.0023\n",
      "Epoch 48/100\n",
      "38/38 [==============================] - 1s 37ms/step - loss: 0.0022\n",
      "Epoch 49/100\n",
      "38/38 [==============================] - 1s 37ms/step - loss: 0.0024\n",
      "Epoch 50/100\n",
      "38/38 [==============================] - 1s 37ms/step - loss: 0.0023\n",
      "Epoch 51/100\n",
      "38/38 [==============================] - 1s 37ms/step - loss: 0.0023\n",
      "Epoch 52/100\n",
      "38/38 [==============================] - 1s 37ms/step - loss: 0.0021\n",
      "Epoch 53/100\n",
      "38/38 [==============================] - 1s 37ms/step - loss: 0.0024\n",
      "Epoch 54/100\n",
      "38/38 [==============================] - 1s 37ms/step - loss: 0.0022\n",
      "Epoch 55/100\n",
      "38/38 [==============================] - 1s 37ms/step - loss: 0.0022\n",
      "Epoch 56/100\n",
      "38/38 [==============================] - 1s 37ms/step - loss: 0.0020\n",
      "Epoch 57/100\n",
      "38/38 [==============================] - 1s 37ms/step - loss: 0.0020\n",
      "Epoch 58/100\n",
      "38/38 [==============================] - 1s 37ms/step - loss: 0.0020\n",
      "Epoch 59/100\n",
      "38/38 [==============================] - 1s 37ms/step - loss: 0.0023\n",
      "Epoch 60/100\n",
      "38/38 [==============================] - 1s 37ms/step - loss: 0.0021\n",
      "Epoch 61/100\n",
      "38/38 [==============================] - 1s 37ms/step - loss: 0.0020\n",
      "Epoch 62/100\n",
      "38/38 [==============================] - 1s 37ms/step - loss: 0.0020\n",
      "Epoch 63/100\n",
      "38/38 [==============================] - 1s 37ms/step - loss: 0.0020\n",
      "Epoch 64/100\n",
      "38/38 [==============================] - 1s 37ms/step - loss: 0.0018\n",
      "Epoch 65/100\n",
      "38/38 [==============================] - 1s 37ms/step - loss: 0.0020\n",
      "Epoch 66/100\n",
      "38/38 [==============================] - 1s 37ms/step - loss: 0.0020\n",
      "Epoch 67/100\n",
      "38/38 [==============================] - 1s 37ms/step - loss: 0.0019\n",
      "Epoch 68/100\n",
      "38/38 [==============================] - 1s 37ms/step - loss: 0.0017\n",
      "Epoch 69/100\n",
      "38/38 [==============================] - 1s 37ms/step - loss: 0.0017\n",
      "Epoch 70/100\n",
      "38/38 [==============================] - 1s 38ms/step - loss: 0.0019\n",
      "Epoch 71/100\n",
      "38/38 [==============================] - 1s 38ms/step - loss: 0.0018\n",
      "Epoch 72/100\n",
      "38/38 [==============================] - 1s 37ms/step - loss: 0.0018\n",
      "Epoch 73/100\n",
      "38/38 [==============================] - 1s 37ms/step - loss: 0.0017\n",
      "Epoch 74/100\n",
      "38/38 [==============================] - 1s 38ms/step - loss: 0.0019\n",
      "Epoch 75/100\n",
      "38/38 [==============================] - 1s 38ms/step - loss: 0.0017\n",
      "Epoch 76/100\n",
      "38/38 [==============================] - 2s 40ms/step - loss: 0.0016\n",
      "Epoch 77/100\n",
      "38/38 [==============================] - 2s 40ms/step - loss: 0.0016\n",
      "Epoch 78/100\n",
      "38/38 [==============================] - 1s 38ms/step - loss: 0.0018\n",
      "Epoch 79/100\n",
      "38/38 [==============================] - 1s 38ms/step - loss: 0.0018\n",
      "Epoch 80/100\n",
      "38/38 [==============================] - 1s 38ms/step - loss: 0.0019\n",
      "Epoch 81/100\n",
      "38/38 [==============================] - 1s 37ms/step - loss: 0.0017\n",
      "Epoch 82/100\n",
      "38/38 [==============================] - 1s 37ms/step - loss: 0.0016\n",
      "Epoch 83/100\n",
      "38/38 [==============================] - 1s 37ms/step - loss: 0.0018\n",
      "Epoch 84/100\n",
      "38/38 [==============================] - 1s 37ms/step - loss: 0.0017\n",
      "Epoch 85/100\n",
      "38/38 [==============================] - 1s 37ms/step - loss: 0.0015\n",
      "Epoch 86/100\n",
      "38/38 [==============================] - 1s 37ms/step - loss: 0.0016\n",
      "Epoch 87/100\n",
      "38/38 [==============================] - 1s 37ms/step - loss: 0.0017\n",
      "Epoch 88/100\n",
      "38/38 [==============================] - 1s 37ms/step - loss: 0.0016\n",
      "Epoch 89/100\n",
      "38/38 [==============================] - 1s 37ms/step - loss: 0.0016\n",
      "Epoch 90/100\n",
      "38/38 [==============================] - 1s 37ms/step - loss: 0.0015\n",
      "Epoch 91/100\n",
      "38/38 [==============================] - 1s 37ms/step - loss: 0.0017\n",
      "Epoch 92/100\n",
      "38/38 [==============================] - 1s 37ms/step - loss: 0.0016\n",
      "Epoch 93/100\n",
      "38/38 [==============================] - 1s 38ms/step - loss: 0.0014\n",
      "Epoch 94/100\n",
      "38/38 [==============================] - 1s 38ms/step - loss: 0.0014\n",
      "Epoch 95/100\n",
      "38/38 [==============================] - 1s 39ms/step - loss: 0.0014\n",
      "Epoch 96/100\n",
      "38/38 [==============================] - 1s 39ms/step - loss: 0.0014\n",
      "Epoch 97/100\n",
      "38/38 [==============================] - 1s 38ms/step - loss: 0.0014\n",
      "Epoch 98/100\n",
      "38/38 [==============================] - 1s 38ms/step - loss: 0.0013\n",
      "Epoch 99/100\n",
      "38/38 [==============================] - 1s 38ms/step - loss: 0.0014\n",
      "Epoch 100/100\n",
      "38/38 [==============================] - 1s 38ms/step - loss: 0.0014\n"
     ]
    },
    {
     "data": {
      "text/plain": [
       "<keras.callbacks.History at 0x18cfe929ee0>"
      ]
     },
     "execution_count": 66,
     "metadata": {},
     "output_type": "execute_result"
    }
   ],
   "source": [
    "regressor.fit(X_train,y_train,epochs=100,batch_size=32)"
   ]
  },
  {
   "cell_type": "markdown",
   "id": "a9902d3d",
   "metadata": {},
   "source": [
    "# Part 3 Predictions and visualising the result"
   ]
  },
  {
   "cell_type": "markdown",
   "id": "67ec8fa7",
   "metadata": {},
   "source": [
    "### Getting the real stock of 2017"
   ]
  },
  {
   "cell_type": "code",
   "execution_count": 67,
   "id": "71feb08d",
   "metadata": {},
   "outputs": [
    {
     "data": {
      "text/html": [
       "<div>\n",
       "<style scoped>\n",
       "    .dataframe tbody tr th:only-of-type {\n",
       "        vertical-align: middle;\n",
       "    }\n",
       "\n",
       "    .dataframe tbody tr th {\n",
       "        vertical-align: top;\n",
       "    }\n",
       "\n",
       "    .dataframe thead th {\n",
       "        text-align: right;\n",
       "    }\n",
       "</style>\n",
       "<table border=\"1\" class=\"dataframe\">\n",
       "  <thead>\n",
       "    <tr style=\"text-align: right;\">\n",
       "      <th></th>\n",
       "      <th>Date</th>\n",
       "      <th>Open</th>\n",
       "      <th>High</th>\n",
       "      <th>Low</th>\n",
       "      <th>Close</th>\n",
       "      <th>Volume</th>\n",
       "    </tr>\n",
       "  </thead>\n",
       "  <tbody>\n",
       "    <tr>\n",
       "      <th>0</th>\n",
       "      <td>1/3/2017</td>\n",
       "      <td>778.81</td>\n",
       "      <td>789.63</td>\n",
       "      <td>775.80</td>\n",
       "      <td>786.14</td>\n",
       "      <td>1,657,300</td>\n",
       "    </tr>\n",
       "    <tr>\n",
       "      <th>1</th>\n",
       "      <td>1/4/2017</td>\n",
       "      <td>788.36</td>\n",
       "      <td>791.34</td>\n",
       "      <td>783.16</td>\n",
       "      <td>786.90</td>\n",
       "      <td>1,073,000</td>\n",
       "    </tr>\n",
       "    <tr>\n",
       "      <th>2</th>\n",
       "      <td>1/5/2017</td>\n",
       "      <td>786.08</td>\n",
       "      <td>794.48</td>\n",
       "      <td>785.02</td>\n",
       "      <td>794.02</td>\n",
       "      <td>1,335,200</td>\n",
       "    </tr>\n",
       "    <tr>\n",
       "      <th>3</th>\n",
       "      <td>1/6/2017</td>\n",
       "      <td>795.26</td>\n",
       "      <td>807.90</td>\n",
       "      <td>792.20</td>\n",
       "      <td>806.15</td>\n",
       "      <td>1,640,200</td>\n",
       "    </tr>\n",
       "    <tr>\n",
       "      <th>4</th>\n",
       "      <td>1/9/2017</td>\n",
       "      <td>806.40</td>\n",
       "      <td>809.97</td>\n",
       "      <td>802.83</td>\n",
       "      <td>806.65</td>\n",
       "      <td>1,272,400</td>\n",
       "    </tr>\n",
       "  </tbody>\n",
       "</table>\n",
       "</div>"
      ],
      "text/plain": [
       "       Date    Open    High     Low   Close     Volume\n",
       "0  1/3/2017  778.81  789.63  775.80  786.14  1,657,300\n",
       "1  1/4/2017  788.36  791.34  783.16  786.90  1,073,000\n",
       "2  1/5/2017  786.08  794.48  785.02  794.02  1,335,200\n",
       "3  1/6/2017  795.26  807.90  792.20  806.15  1,640,200\n",
       "4  1/9/2017  806.40  809.97  802.83  806.65  1,272,400"
      ]
     },
     "execution_count": 67,
     "metadata": {},
     "output_type": "execute_result"
    }
   ],
   "source": [
    "dataset_test = pd.read_csv('Google_Stock_Price_Test.csv')\n",
    "dataset_test.head()"
   ]
  },
  {
   "cell_type": "code",
   "execution_count": 68,
   "id": "50143193",
   "metadata": {},
   "outputs": [
    {
     "data": {
      "text/plain": [
       "(20, 6)"
      ]
     },
     "execution_count": 68,
     "metadata": {},
     "output_type": "execute_result"
    }
   ],
   "source": [
    "dataset_test.shape"
   ]
  },
  {
   "cell_type": "code",
   "execution_count": 69,
   "id": "88283b2d",
   "metadata": {},
   "outputs": [],
   "source": [
    "real_stock_price = dataset_test.iloc[:, 1:2].values"
   ]
  },
  {
   "cell_type": "code",
   "execution_count": 70,
   "id": "fc89c5a8",
   "metadata": {},
   "outputs": [],
   "source": [
    "# Getting the predicted stock price of 2017"
   ]
  },
  {
   "cell_type": "code",
   "execution_count": 71,
   "id": "ba616a8f",
   "metadata": {},
   "outputs": [
    {
     "data": {
      "text/plain": [
       "(1278,)"
      ]
     },
     "execution_count": 71,
     "metadata": {},
     "output_type": "execute_result"
    }
   ],
   "source": [
    "dataset_total = pd.concat((dataset_train['Open'],dataset_test['Open']),axis=0)\n",
    "dataset_total.shape"
   ]
  },
  {
   "cell_type": "code",
   "execution_count": 72,
   "id": "deade6a5",
   "metadata": {},
   "outputs": [
    {
     "name": "stderr",
     "output_type": "stream",
     "text": [
      "C:\\Users\\Abhinav94\\AppData\\Local\\Temp\\ipykernel_17952\\2645378126.py:1: FutureWarning: The behavior of `series[i:j]` with an integer-dtype index is deprecated. In a future version, this will be treated as *label-based* indexing, consistent with e.g. `series[i]` lookups. To retain the old behavior, use `series.iloc[i:j]`. To get the future behavior, use `series.loc[i:j]`.\n",
      "  inputs = dataset_total[len(dataset_total)-len(dataset_test) -60:].values\n"
     ]
    }
   ],
   "source": [
    "inputs = dataset_total[len(dataset_total)-len(dataset_test) -60:].values"
   ]
  },
  {
   "cell_type": "code",
   "execution_count": 73,
   "id": "1f1932db",
   "metadata": {},
   "outputs": [
    {
     "data": {
      "text/plain": [
       "array([779.  , 779.66, 777.71, 786.66, 783.76, 781.22, 781.65, 779.8 ,\n",
       "       787.85, 798.24, 803.3 , 795.  , 804.9 , 816.68, 806.34, 801.  ,\n",
       "       808.35, 795.47, 782.89, 778.2 , 767.25, 750.66, 774.5 , 783.4 ,\n",
       "       779.94, 791.17, 756.54, 755.6 , 746.97, 755.2 , 766.92, 771.37,\n",
       "       762.61, 772.63, 767.73, 764.26, 760.  , 771.53, 770.07, 757.44,\n",
       "       744.59, 757.71, 764.73, 761.  , 772.48, 780.  , 785.04, 793.9 ,\n",
       "       797.4 , 797.34, 800.4 , 790.22, 796.76, 795.84, 792.36, 790.9 ,\n",
       "       790.68, 793.7 , 783.33, 782.75, 778.81, 788.36, 786.08, 795.26,\n",
       "       806.4 , 807.86, 805.  , 807.14, 807.48, 807.08, 805.81, 805.12,\n",
       "       806.91, 807.25, 822.3 , 829.62, 837.81, 834.71, 814.66, 796.86])"
      ]
     },
     "execution_count": 73,
     "metadata": {},
     "output_type": "execute_result"
    }
   ],
   "source": [
    "inputs"
   ]
  },
  {
   "cell_type": "code",
   "execution_count": 74,
   "id": "189ddd43",
   "metadata": {},
   "outputs": [],
   "source": [
    "inputs = inputs.reshape(-1,1)\n",
    "inputs_scaled = scaler.transform(inputs)"
   ]
  },
  {
   "cell_type": "code",
   "execution_count": 75,
   "id": "b2ba9678",
   "metadata": {},
   "outputs": [],
   "source": [
    "X_test = []\n",
    "y_test = []\n",
    "\n",
    "for i in range(60,80):\n",
    "    X_test.append(inputs_scaled[i-60:i,0])\n",
    "    y_test.append(inputs_scaled[i,0])\n",
    "X_test,y_test = np.array(X_test),np.array(y_test)"
   ]
  },
  {
   "cell_type": "code",
   "execution_count": 76,
   "id": "18ac52c3",
   "metadata": {},
   "outputs": [
    {
     "data": {
      "text/plain": [
       "array([[[0.9299055 ],\n",
       "        [0.93113327],\n",
       "        [0.92750577],\n",
       "        ...,\n",
       "        [0.95725128],\n",
       "        [0.93796041],\n",
       "        [0.93688146]],\n",
       "\n",
       "       [[0.93113327],\n",
       "        [0.92750577],\n",
       "        [0.94415507],\n",
       "        ...,\n",
       "        [0.93796041],\n",
       "        [0.93688146],\n",
       "        [0.92955205]],\n",
       "\n",
       "       [[0.92750577],\n",
       "        [0.94415507],\n",
       "        [0.93876032],\n",
       "        ...,\n",
       "        [0.93688146],\n",
       "        [0.92955205],\n",
       "        [0.94731751]],\n",
       "\n",
       "       ...,\n",
       "\n",
       "       [[0.96054394],\n",
       "        [0.9371419 ],\n",
       "        [0.92841729],\n",
       "        ...,\n",
       "        [1.01045465],\n",
       "        [1.02407173],\n",
       "        [1.03930724]],\n",
       "\n",
       "       [[0.9371419 ],\n",
       "        [0.92841729],\n",
       "        [0.90804747],\n",
       "        ...,\n",
       "        [1.02407173],\n",
       "        [1.03930724],\n",
       "        [1.03354044]],\n",
       "\n",
       "       [[0.92841729],\n",
       "        [0.90804747],\n",
       "        [0.8771858 ],\n",
       "        ...,\n",
       "        [1.03930724],\n",
       "        [1.03354044],\n",
       "        [0.99624228]]])"
      ]
     },
     "execution_count": 76,
     "metadata": {},
     "output_type": "execute_result"
    }
   ],
   "source": [
    "X_test = np.reshape(X_test,(X_test.shape[0],X_test.shape[1],1))\n",
    "X_test"
   ]
  },
  {
   "cell_type": "code",
   "execution_count": 77,
   "id": "4b9324a1",
   "metadata": {},
   "outputs": [
    {
     "name": "stdout",
     "output_type": "stream",
     "text": [
      "1/1 [==============================] - 1s 822ms/step\n"
     ]
    }
   ],
   "source": [
    "predicted_stock_price = regressor.predict(X_test)"
   ]
  },
  {
   "cell_type": "code",
   "execution_count": 78,
   "id": "fc336985",
   "metadata": {},
   "outputs": [
    {
     "data": {
      "text/plain": [
       "array([[775.55255],\n",
       "       [772.8079 ],\n",
       "       [773.03357],\n",
       "       [774.4697 ],\n",
       "       [777.87476],\n",
       "       [783.8326 ],\n",
       "       [789.3061 ],\n",
       "       [791.5435 ],\n",
       "       [791.8081 ],\n",
       "       [791.39417],\n",
       "       [790.93756],\n",
       "       [790.48096],\n",
       "       [790.1476 ],\n",
       "       [790.5734 ],\n",
       "       [791.4851 ],\n",
       "       [796.077  ],\n",
       "       [803.03033],\n",
       "       [810.48413],\n",
       "       [814.47534],\n",
       "       [810.2007 ]], dtype=float32)"
      ]
     },
     "execution_count": 78,
     "metadata": {},
     "output_type": "execute_result"
    }
   ],
   "source": [
    "predicted_stock_price = scaler.inverse_transform(predicted_stock_price)\n",
    "predicted_stock_price"
   ]
  },
  {
   "cell_type": "markdown",
   "id": "368840e5",
   "metadata": {},
   "source": [
    "# Visualising the result"
   ]
  },
  {
   "cell_type": "code",
   "execution_count": 80,
   "id": "17265eb8",
   "metadata": {},
   "outputs": [
    {
     "data": {
      "image/png": "[encoded data removed]",
      "text/plain": [
       "<Figure size 640x480 with 1 Axes>"
      ]
     },
     "metadata": {},
     "output_type": "display_data"
    }
   ],
   "source": [
    "plt.plot(real_stock_price,color='red',label='Real Google Stock Price')\n",
    "plt.plot(predicted_stock_price,color='blue',label='Predicted Google Stock Price')\n",
    "plt.title('Google Stock Price Prediction')\n",
    "plt.xlabel('Time')\n",
    "plt.ylabel('Google Stock Price')\n",
    "plt.legend()\n",
    "plt.show()"
   ]
  },
  {
   "cell_type": "code",
   "execution_count": null,
   "id": "13992591",
   "metadata": {},
   "outputs": [],
   "source": []
  },
  {
   "cell_type": "code",
   "execution_count": null,
   "id": "d1a13a8a",
   "metadata": {},
   "outputs": [],
   "source": []
  }
 ],
 "metadata": {
  "kernelspec": {
   "display_name": "Python 3 (ipykernel)",
   "language": "python",
   "name": "python3"
  },
  "language_info": {
   "codemirror_mode": {
    "name": "ipython",
    "version": 3
   },
   "file_extension": ".py",
   "mimetype": "text/x-python",
   "name": "python",
   "nbconvert_exporter": "python",
   "pygments_lexer": "ipython3",
   "version": "3.9.7"
  }
 },
 "nbformat": 4,
 "nbformat_minor": 5
}
